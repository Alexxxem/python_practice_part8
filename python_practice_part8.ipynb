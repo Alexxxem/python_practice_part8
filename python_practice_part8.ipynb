{
 "cells": [
  {
   "cell_type": "markdown",
   "id": "c685ef84",
   "metadata": {},
   "source": [
    "**1. Не уникальные элементы.**\n",
    "\n",
    "Дано: непустой массив целых чисел.\n",
    "\n",
    "Задание: нужно получить массив, состоящий только из неуникальных элементов данного массива. Для этого необходимо удалить все уникальные элементы (которые присутствуют в данном массиве только один раз). Для решения этой задачи не меняйте оригинальный порядок элементов. Пример: [1, 2, 3, 1, 3], где 1 и 3 неуникальные элементы и результат будет [1, 3, 1, 3].\n",
    "\n",
    "Пример:\n",
    "\n",
    " [1, 2, 3, 1, 3], результат: [1, 3, 1, 3]\n",
    " \n",
    " [1, 2, 3, 4, 5], результат: []\n",
    " \n",
    " [5, 5, 5, 5, 5], результат: [5, 5, 5, 5, 5]\n",
    " \n",
    " [10, 9, 10, 10, 9, 8], результат: [10, 9, 10, 10, 9]"
   ]
  },
  {
   "cell_type": "code",
   "execution_count": 1,
   "id": "7239f8d8",
   "metadata": {},
   "outputs": [
    {
     "name": "stdout",
     "output_type": "stream",
     "text": [
      "[1, 3, 1, 3]\n"
     ]
    }
   ],
   "source": [
    "def get_non_unique(initial_array):\n",
    "    if not initial_array:\n",
    "        return 0\n",
    "\n",
    "    array = [x for x in initial_array if initial_array.count(x) != 1]\n",
    "    return array\n",
    "\n",
    "\n",
    "initial_array = [1, 2, 3, 5, 1, 3]\n",
    "print(get_non_unique(initial_array))"
   ]
  },
  {
   "cell_type": "markdown",
   "id": "c43d05f9",
   "metadata": {},
   "source": [
    "**2. Перестановки.**\n",
    "\n",
    "Дано: x, y, z, n.\n",
    "\n",
    "Задание: нужно получить список всех возможных перестановок чисел x, y, z, где x + y + z != n.\n",
    "\n",
    "Пример:\n",
    "\n",
    " x = 0 y = 0 z = 1\n",
    " n = 2, результат: [[0, 0, 0], [0, 0, 1], [0, 1, 0], [1, 0, 0], [1, 1, 1]]\n"
   ]
  },
  {
   "cell_type": "code",
   "execution_count": 2,
   "id": "f25d4e13",
   "metadata": {},
   "outputs": [
    {
     "name": "stdout",
     "output_type": "stream",
     "text": [
      "[[0, 0, 0], [0, 0, 1], [0, 1, 0], [1, 0, 0], [1, 1, 1]]\n"
     ]
    }
   ],
   "source": [
    "def get_permutations(arr, n):\n",
    "    result = []\n",
    "    for i in arr:\n",
    "        for j in arr:\n",
    "            for k in arr:\n",
    "                if i + j + k != n and [i, j, k] not in result:\n",
    "                    result.append([i, j, k])\n",
    "    return result\n",
    "\n",
    "\n",
    "x = 0\n",
    "y = 0\n",
    "z = 1\n",
    "n = 2\n",
    "arr = [x, y, z]\n",
    "print(get_permutations(arr, n))"
   ]
  },
  {
   "cell_type": "markdown",
   "id": "2a08be4f",
   "metadata": {},
   "source": [
    "**3. Удвоенные нечетные.**\n",
    "\n",
    "Дано: n.\n",
    "\n",
    "Задание: нужно получить список \"удвоенных\" нечетных чисел от 0 до n.\n",
    "\n",
    "Пример:\n",
    "\n",
    " n = 5, результат: [2, 6]"
   ]
  },
  {
   "cell_type": "code",
   "execution_count": 3,
   "id": "435936d2",
   "metadata": {},
   "outputs": [
    {
     "name": "stdout",
     "output_type": "stream",
     "text": [
      "[2, 6]\n"
     ]
    }
   ],
   "source": [
    "def get_double_odd(n):\n",
    "    array = [x*2 for x in range(0, n) if x % 2]\n",
    "    return array\n",
    "\n",
    "\n",
    "n = 5\n",
    "print(get_double_odd(n))"
   ]
  },
  {
   "cell_type": "code",
   "execution_count": null,
   "id": "1dede939",
   "metadata": {},
   "outputs": [],
   "source": []
  }
 ],
 "metadata": {
  "kernelspec": {
   "display_name": "Python 3 (ipykernel)",
   "language": "python",
   "name": "python3"
  },
  "language_info": {
   "codemirror_mode": {
    "name": "ipython",
    "version": 3
   },
   "file_extension": ".py",
   "mimetype": "text/x-python",
   "name": "python",
   "nbconvert_exporter": "python",
   "pygments_lexer": "ipython3",
   "version": "3.10.8"
  }
 },
 "nbformat": 4,
 "nbformat_minor": 5
}
